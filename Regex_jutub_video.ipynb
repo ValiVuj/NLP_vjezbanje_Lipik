{
 "cells": [
  {
   "cell_type": "code",
   "execution_count": 2,
   "id": "be5016ea",
   "metadata": {},
   "outputs": [],
   "source": [
    "import re"
   ]
  },
  {
   "cell_type": "code",
   "execution_count": 4,
   "id": "ac6256ab",
   "metadata": {},
   "outputs": [],
   "source": [
    "text_to_search = '''\n",
    "abcdefghijklmnopqurtuvwxyz\n",
    "ABCDEFGHIJKLMNOPQRSTUVWXYZ\n",
    "1234567890\n",
    "Ha HaHa\n",
    "MetaCharacters (Need to be escaped):\n",
    ". ^ $ * + ? { } [ ] \\ | ( )\n",
    "coreyms.com\n",
    "321-555-4321\n",
    "123.555.1234\n",
    "123*555*1234\n",
    "800-555-1234\n",
    "900-555-1234\n",
    "Mr. Schafer\n",
    "Mr Smith\n",
    "Ms Davis\n",
    "Mrs. Robinson\n",
    "Mr. T\n",
    "'''\n",
    "\n",
    "sentence = 'Start a sentence and then bring it to an end'"
   ]
  },
  {
   "cell_type": "code",
   "execution_count": 9,
   "id": "721171c5",
   "metadata": {},
   "outputs": [],
   "source": [
    "pattern = re.compile(r'\\d\\d\\d ')"
   ]
  },
  {
   "cell_type": "code",
   "execution_count": 10,
   "id": "f761c968",
   "metadata": {},
   "outputs": [],
   "source": [
    "matches  = pattern.finditer(text_to_search)"
   ]
  },
  {
   "cell_type": "code",
   "execution_count": 11,
   "id": "29827ecd",
   "metadata": {},
   "outputs": [
    {
     "name": "stdout",
     "output_type": "stream",
     "text": [
      "<re.Match object; span=(55, 58), match='123'>\n",
      "<re.Match object; span=(58, 61), match='456'>\n",
      "<re.Match object; span=(61, 64), match='789'>\n",
      "<re.Match object; span=(151, 154), match='321'>\n",
      "<re.Match object; span=(155, 158), match='555'>\n",
      "<re.Match object; span=(159, 162), match='432'>\n",
      "<re.Match object; span=(164, 167), match='123'>\n",
      "<re.Match object; span=(168, 171), match='555'>\n",
      "<re.Match object; span=(172, 175), match='123'>\n",
      "<re.Match object; span=(177, 180), match='123'>\n",
      "<re.Match object; span=(181, 184), match='555'>\n",
      "<re.Match object; span=(185, 188), match='123'>\n",
      "<re.Match object; span=(190, 193), match='800'>\n",
      "<re.Match object; span=(194, 197), match='555'>\n",
      "<re.Match object; span=(198, 201), match='123'>\n",
      "<re.Match object; span=(203, 206), match='900'>\n",
      "<re.Match object; span=(207, 210), match='555'>\n",
      "<re.Match object; span=(211, 214), match='123'>\n"
     ]
    }
   ],
   "source": [
    "for match in matches:\n",
    "    print(match)"
   ]
  },
  {
   "cell_type": "code",
   "execution_count": null,
   "id": "eec1dfbb",
   "metadata": {},
   "outputs": [],
   "source": []
  }
 ],
 "metadata": {
  "kernelspec": {
   "display_name": "Python 3 (ipykernel)",
   "language": "python",
   "name": "python3"
  },
  "language_info": {
   "codemirror_mode": {
    "name": "ipython",
    "version": 3
   },
   "file_extension": ".py",
   "mimetype": "text/x-python",
   "name": "python",
   "nbconvert_exporter": "python",
   "pygments_lexer": "ipython3",
   "version": "3.9.7"
  }
 },
 "nbformat": 4,
 "nbformat_minor": 5
}
