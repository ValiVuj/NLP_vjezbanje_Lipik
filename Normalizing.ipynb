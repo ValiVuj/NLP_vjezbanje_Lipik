{
 "cells": [
  {
   "cell_type": "code",
   "execution_count": 2,
   "id": "e3236133",
   "metadata": {},
   "outputs": [],
   "source": [
    "import nltk"
   ]
  },
  {
   "cell_type": "code",
   "execution_count": 2,
   "id": "58ecfb87",
   "metadata": {},
   "outputs": [],
   "source": [
    "md = nltk.corpus.gutenberg.words(\"melville-moby_dick.txt\")"
   ]
  },
  {
   "cell_type": "code",
   "execution_count": 4,
   "id": "1a816016",
   "metadata": {},
   "outputs": [
    {
     "data": {
      "text/plain": [
       "['[',\n",
       " 'Moby',\n",
       " 'Dick',\n",
       " 'by',\n",
       " 'Herman',\n",
       " 'Melville',\n",
       " '1851',\n",
       " ']',\n",
       " 'ETYMOLOGY',\n",
       " '.',\n",
       " '(',\n",
       " 'Supplied',\n",
       " 'by',\n",
       " 'a',\n",
       " 'Late',\n",
       " 'Consumptive',\n",
       " 'Usher',\n",
       " 'to',\n",
       " 'a',\n",
       " 'Grammar',\n",
       " 'School',\n",
       " ')']"
      ]
     },
     "execution_count": 4,
     "metadata": {},
     "output_type": "execute_result"
    }
   ],
   "source": [
    "md[:22]"
   ]
  },
  {
   "cell_type": "code",
   "execution_count": 5,
   "id": "0786e6fc",
   "metadata": {},
   "outputs": [],
   "source": [
    "md_22 = md[:22]\n"
   ]
  },
  {
   "cell_type": "code",
   "execution_count": 6,
   "id": "963480af",
   "metadata": {},
   "outputs": [
    {
     "data": {
      "text/plain": [
       "['[',\n",
       " 'Moby',\n",
       " 'Dick',\n",
       " 'by',\n",
       " 'Herman',\n",
       " 'Melville',\n",
       " '1851',\n",
       " ']',\n",
       " 'ETYMOLOGY',\n",
       " '.',\n",
       " '(',\n",
       " 'Supplied',\n",
       " 'by',\n",
       " 'a',\n",
       " 'Late',\n",
       " 'Consumptive',\n",
       " 'Usher',\n",
       " 'to',\n",
       " 'a',\n",
       " 'Grammar',\n",
       " 'School',\n",
       " ')']"
      ]
     },
     "execution_count": 6,
     "metadata": {},
     "output_type": "execute_result"
    }
   ],
   "source": [
    "md_22\n"
   ]
  },
  {
   "cell_type": "code",
   "execution_count": 7,
   "id": "c99e0876",
   "metadata": {},
   "outputs": [
    {
     "name": "stdout",
     "output_type": "stream",
     "text": [
      "Moby\n",
      "Dick\n",
      "by\n",
      "Herman\n",
      "Melville\n",
      "ETYMOLOGY\n",
      "Supplied\n",
      "by\n",
      "a\n",
      "Late\n",
      "Consumptive\n",
      "Usher\n",
      "to\n",
      "a\n",
      "Grammar\n",
      "School\n"
     ]
    }
   ],
   "source": [
    "for word in md_22:\n",
    "    if word.isalpha():\n",
    "        print(word)"
   ]
  },
  {
   "cell_type": "code",
   "execution_count": 8,
   "id": "25e04729",
   "metadata": {},
   "outputs": [
    {
     "name": "stdout",
     "output_type": "stream",
     "text": [
      "[\n",
      "moby\n",
      "dick\n",
      "by\n",
      "herman\n",
      "melville\n",
      "1851\n",
      "]\n",
      "etymology\n",
      ".\n",
      "(\n",
      "supplied\n",
      "by\n",
      "a\n",
      "late\n",
      "consumptive\n",
      "usher\n",
      "to\n",
      "a\n",
      "grammar\n",
      "school\n",
      ")\n"
     ]
    }
   ],
   "source": [
    "for word in md_22:\n",
    "    print(word.lower())"
   ]
  },
  {
   "cell_type": "code",
   "execution_count": 9,
   "id": "d126405b",
   "metadata": {},
   "outputs": [],
   "source": [
    "norm = [word.lower() for word in md_22 if word.isalpha()]"
   ]
  },
  {
   "cell_type": "code",
   "execution_count": 10,
   "id": "53c13e47",
   "metadata": {},
   "outputs": [
    {
     "data": {
      "text/plain": [
       "['moby',\n",
       " 'dick',\n",
       " 'by',\n",
       " 'herman',\n",
       " 'melville',\n",
       " 'etymology',\n",
       " 'supplied',\n",
       " 'by',\n",
       " 'a',\n",
       " 'late',\n",
       " 'consumptive',\n",
       " 'usher',\n",
       " 'to',\n",
       " 'a',\n",
       " 'grammar',\n",
       " 'school']"
      ]
     },
     "execution_count": 10,
     "metadata": {},
     "output_type": "execute_result"
    }
   ],
   "source": [
    "norm"
   ]
  },
  {
   "cell_type": "code",
   "execution_count": 14,
   "id": "4dafb892",
   "metadata": {},
   "outputs": [],
   "source": [
    " porter = nltk.PorterStemmer()"
   ]
  },
  {
   "cell_type": "code",
   "execution_count": 15,
   "id": "5c46fb8a",
   "metadata": {},
   "outputs": [],
   "source": [
    "my_list = [\"cat\", \"cats\", \"lie\", \"lied\", \"run\", \"runner\", \"city\", \"cities\",\"month\", \"monthly\", \"woman\", \"women\"]"
   ]
  },
  {
   "cell_type": "code",
   "execution_count": 16,
   "id": "6c5d60a3",
   "metadata": {},
   "outputs": [
    {
     "name": "stdout",
     "output_type": "stream",
     "text": [
      "cat\n",
      "cat\n",
      "lie\n",
      "lie\n",
      "run\n",
      "runner\n",
      "citi\n",
      "citi\n",
      "month\n",
      "monthli\n",
      "woman\n",
      "women\n"
     ]
    }
   ],
   "source": [
    "for word in my_list:\n",
    "    print(porter.stem(word))"
   ]
  },
  {
   "cell_type": "code",
   "execution_count": 3,
   "id": "29f5a048",
   "metadata": {},
   "outputs": [],
   "source": [
    "lancaster = nltk.LancasterStemmer()"
   ]
  },
  {
   "cell_type": "code",
   "execution_count": 6,
   "id": "77e2110e",
   "metadata": {},
   "outputs": [
    {
     "name": "stdout",
     "output_type": "stream",
     "text": [
      "cat\n",
      "cat\n",
      "lie\n",
      "lying\n",
      "run\n",
      "run\n",
      "city\n",
      "city\n",
      "mon\n",
      "month\n",
      "wom\n",
      "wom\n"
     ]
    }
   ],
   "source": [
    "for word in my_list:\n",
    "    print(lancaster.stem(word))"
   ]
  },
  {
   "cell_type": "code",
   "execution_count": 17,
   "id": "1abd7c9a",
   "metadata": {},
   "outputs": [],
   "source": [
    "wnlem = nltk.WordNetLemmatizer()"
   ]
  },
  {
   "cell_type": "code",
   "execution_count": 20,
   "id": "8141c38b",
   "metadata": {},
   "outputs": [
    {
     "name": "stdout",
     "output_type": "stream",
     "text": [
      "cat\n",
      "cat\n",
      "lie\n",
      "lied\n",
      "run\n",
      "runner\n",
      "city\n",
      "city\n",
      "month\n",
      "monthly\n",
      "woman\n",
      "woman\n"
     ]
    }
   ],
   "source": [
    "for word in my_list:\n",
    "    print(wnlem.lemmatize(word))"
   ]
  },
  {
   "cell_type": "code",
   "execution_count": null,
   "id": "54fd8ec8",
   "metadata": {},
   "outputs": [],
   "source": []
  }
 ],
 "metadata": {
  "kernelspec": {
   "display_name": "Python 3 (ipykernel)",
   "language": "python",
   "name": "python3"
  },
  "language_info": {
   "codemirror_mode": {
    "name": "ipython",
    "version": 3
   },
   "file_extension": ".py",
   "mimetype": "text/x-python",
   "name": "python",
   "nbconvert_exporter": "python",
   "pygments_lexer": "ipython3",
   "version": "3.9.7"
  }
 },
 "nbformat": 4,
 "nbformat_minor": 5
}
