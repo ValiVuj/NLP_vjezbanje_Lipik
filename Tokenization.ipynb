{
 "cells": [
  {
   "cell_type": "code",
   "execution_count": 1,
   "id": "9586f144",
   "metadata": {},
   "outputs": [],
   "source": [
    "import nltk"
   ]
  },
  {
   "cell_type": "code",
   "execution_count": 2,
   "id": "aa218dab",
   "metadata": {},
   "outputs": [],
   "source": [
    "my_string = \"I am learning Natural Language Processing.\""
   ]
  },
  {
   "cell_type": "code",
   "execution_count": 3,
   "id": "76d40337",
   "metadata": {},
   "outputs": [],
   "source": [
    "tokens = nltk.word_tokenize(my_string)"
   ]
  },
  {
   "cell_type": "code",
   "execution_count": 4,
   "id": "a10bcb19",
   "metadata": {},
   "outputs": [
    {
     "data": {
      "text/plain": [
       "['I', 'am', 'learning', 'Natural', 'Language', 'Processing', '.']"
      ]
     },
     "execution_count": 4,
     "metadata": {},
     "output_type": "execute_result"
    }
   ],
   "source": [
    "tokens"
   ]
  },
  {
   "cell_type": "code",
   "execution_count": 5,
   "id": "5a762568",
   "metadata": {},
   "outputs": [
    {
     "data": {
      "text/plain": [
       "7"
      ]
     },
     "execution_count": 5,
     "metadata": {},
     "output_type": "execute_result"
    }
   ],
   "source": [
    "len(tokens)"
   ]
  },
  {
   "cell_type": "code",
   "execution_count": 6,
   "id": "0c54fed0",
   "metadata": {},
   "outputs": [],
   "source": [
    "phrase = \"I am learning Natural Language Processing. I am learning how to tokenize!\""
   ]
  },
  {
   "cell_type": "code",
   "execution_count": 7,
   "id": "a45bda84",
   "metadata": {},
   "outputs": [],
   "source": [
    "tokens_sent = nltk.sent_tokenize(phrase)"
   ]
  },
  {
   "cell_type": "code",
   "execution_count": 8,
   "id": "d2e8c192",
   "metadata": {},
   "outputs": [
    {
     "data": {
      "text/plain": [
       "['I am learning Natural Language Processing.',\n",
       " 'I am learning how to tokenize!']"
      ]
     },
     "execution_count": 8,
     "metadata": {},
     "output_type": "execute_result"
    }
   ],
   "source": [
    "tokens_sent"
   ]
  },
  {
   "cell_type": "code",
   "execution_count": 9,
   "id": "87c39708",
   "metadata": {},
   "outputs": [
    {
     "name": "stdout",
     "output_type": "stream",
     "text": [
      "['I', 'am', 'learning', 'Natural', 'Language', 'Processing', '.']\n",
      "['I', 'am', 'learning', 'how', 'to', 'tokenize', '!']\n"
     ]
    }
   ],
   "source": [
    "for item in tokens_sent:\n",
    "    print(nltk.word_tokenize(item))"
   ]
  },
  {
   "cell_type": "code",
   "execution_count": null,
   "id": "b431504f",
   "metadata": {},
   "outputs": [],
   "source": []
  }
 ],
 "metadata": {
  "kernelspec": {
   "display_name": "Python 3 (ipykernel)",
   "language": "python",
   "name": "python3"
  },
  "language_info": {
   "codemirror_mode": {
    "name": "ipython",
    "version": 3
   },
   "file_extension": ".py",
   "mimetype": "text/x-python",
   "name": "python",
   "nbconvert_exporter": "python",
   "pygments_lexer": "ipython3",
   "version": "3.9.7"
  }
 },
 "nbformat": 4,
 "nbformat_minor": 5
}
