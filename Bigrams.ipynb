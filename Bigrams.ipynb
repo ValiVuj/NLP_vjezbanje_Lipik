{
 "cells": [
  {
   "cell_type": "code",
   "execution_count": 1,
   "id": "4a3a033c",
   "metadata": {},
   "outputs": [],
   "source": [
    "import nltk"
   ]
  },
  {
   "cell_type": "code",
   "execution_count": 2,
   "id": "03fbdb47",
   "metadata": {},
   "outputs": [],
   "source": [
    "text = \"I think it might rain today\""
   ]
  },
  {
   "cell_type": "code",
   "execution_count": 3,
   "id": "5467278f",
   "metadata": {},
   "outputs": [],
   "source": [
    "tokens = nltk.word_tokenize(text)"
   ]
  },
  {
   "cell_type": "code",
   "execution_count": 4,
   "id": "b2c9b775",
   "metadata": {},
   "outputs": [
    {
     "data": {
      "text/plain": [
       "['I', 'think', 'it', 'might', 'rain', 'today']"
      ]
     },
     "execution_count": 4,
     "metadata": {},
     "output_type": "execute_result"
    }
   ],
   "source": [
    "tokens"
   ]
  },
  {
   "cell_type": "code",
   "execution_count": 5,
   "id": "e18193c9",
   "metadata": {},
   "outputs": [],
   "source": [
    "bigrams = nltk.bigrams(tokens)"
   ]
  },
  {
   "cell_type": "code",
   "execution_count": 6,
   "id": "8439288b",
   "metadata": {},
   "outputs": [
    {
     "name": "stdout",
     "output_type": "stream",
     "text": [
      "('I', 'think')\n",
      "('think', 'it')\n",
      "('it', 'might')\n",
      "('might', 'rain')\n",
      "('rain', 'today')\n"
     ]
    }
   ],
   "source": [
    "for item in bigrams:\n",
    "    print(item)"
   ]
  },
  {
   "cell_type": "code",
   "execution_count": 7,
   "id": "1e65bcfc",
   "metadata": {},
   "outputs": [],
   "source": [
    "trigrams = nltk.trigrams(tokens)"
   ]
  },
  {
   "cell_type": "code",
   "execution_count": 8,
   "id": "f92bbdaa",
   "metadata": {},
   "outputs": [
    {
     "name": "stdout",
     "output_type": "stream",
     "text": [
      "('I', 'think', 'it')\n",
      "('think', 'it', 'might')\n",
      "('it', 'might', 'rain')\n",
      "('might', 'rain', 'today')\n"
     ]
    }
   ],
   "source": [
    "for item in trigrams:\n",
    "    print(item)"
   ]
  },
  {
   "cell_type": "code",
   "execution_count": 9,
   "id": "89b3f43e",
   "metadata": {},
   "outputs": [],
   "source": [
    "from nltk.util import ngrams"
   ]
  },
  {
   "cell_type": "code",
   "execution_count": 11,
   "id": "9d12b371",
   "metadata": {},
   "outputs": [],
   "source": [
    "text2 = \"If it is nice out, I will go to the beach\""
   ]
  },
  {
   "cell_type": "code",
   "execution_count": 12,
   "id": "d9f11aa9",
   "metadata": {},
   "outputs": [],
   "source": [
    "tokens2 = nltk.word_tokenize(text2)"
   ]
  },
  {
   "cell_type": "code",
   "execution_count": 13,
   "id": "d0955128",
   "metadata": {},
   "outputs": [
    {
     "data": {
      "text/plain": [
       "['If', 'it', 'is', 'nice', 'out', ',', 'I', 'will', 'go', 'to', 'the', 'beach']"
      ]
     },
     "execution_count": 13,
     "metadata": {},
     "output_type": "execute_result"
    }
   ],
   "source": [
    "tokens2"
   ]
  },
  {
   "cell_type": "code",
   "execution_count": 14,
   "id": "9d0862a1",
   "metadata": {},
   "outputs": [],
   "source": [
    "bigrams = ngrams(tokens2,2)"
   ]
  },
  {
   "cell_type": "code",
   "execution_count": 15,
   "id": "ed6c83a3",
   "metadata": {},
   "outputs": [
    {
     "name": "stdout",
     "output_type": "stream",
     "text": [
      "('If', 'it')\n",
      "('it', 'is')\n",
      "('is', 'nice')\n",
      "('nice', 'out')\n",
      "('out', ',')\n",
      "(',', 'I')\n",
      "('I', 'will')\n",
      "('will', 'go')\n",
      "('go', 'to')\n",
      "('to', 'the')\n",
      "('the', 'beach')\n"
     ]
    }
   ],
   "source": [
    "for item in bigrams:\n",
    "    print(item)"
   ]
  },
  {
   "cell_type": "code",
   "execution_count": 16,
   "id": "134211cc",
   "metadata": {},
   "outputs": [],
   "source": [
    "fourgrams = ngrams(tokens2,4)"
   ]
  },
  {
   "cell_type": "code",
   "execution_count": 18,
   "id": "f4016dc8",
   "metadata": {},
   "outputs": [
    {
     "name": "stdout",
     "output_type": "stream",
     "text": [
      "('If', 'it', 'is', 'nice')\n",
      "('it', 'is', 'nice', 'out')\n",
      "('is', 'nice', 'out', ',')\n",
      "('nice', 'out', ',', 'I')\n",
      "('out', ',', 'I', 'will')\n",
      "(',', 'I', 'will', 'go')\n",
      "('I', 'will', 'go', 'to')\n",
      "('will', 'go', 'to', 'the')\n",
      "('go', 'to', 'the', 'beach')\n"
     ]
    }
   ],
   "source": [
    "for item in fourgrams:\n",
    "    print(item)"
   ]
  },
  {
   "cell_type": "code",
   "execution_count": 24,
   "id": "57b388c0",
   "metadata": {},
   "outputs": [],
   "source": [
    "def n_grams(text, number):\n",
    "    tokens=nltk.word_tokenize(text)\n",
    "    grams=n_grams(tokens,n)\n",
    "    return grams"
   ]
  },
  {
   "cell_type": "code",
   "execution_count": 25,
   "id": "b2bdd361",
   "metadata": {},
   "outputs": [],
   "source": [
    "text3 = text + \" \" + text2"
   ]
  },
  {
   "cell_type": "code",
   "execution_count": 26,
   "id": "fc273a57",
   "metadata": {},
   "outputs": [
    {
     "data": {
      "text/plain": [
       "'I think it might rain today If it is nice out, I will go to the beach'"
      ]
     },
     "execution_count": 26,
     "metadata": {},
     "output_type": "execute_result"
    }
   ],
   "source": [
    "text3"
   ]
  },
  {
   "cell_type": "code",
   "execution_count": 28,
   "id": "43b0a516",
   "metadata": {},
   "outputs": [
    {
     "ename": "NameError",
     "evalue": "name 'n' is not defined",
     "output_type": "error",
     "traceback": [
      "\u001b[1;31m---------------------------------------------------------------------------\u001b[0m",
      "\u001b[1;31mNameError\u001b[0m                                 Traceback (most recent call last)",
      "\u001b[1;32mC:\\Users\\VALENT~1\\AppData\\Local\\Temp/ipykernel_9040/1502529275.py\u001b[0m in \u001b[0;36m<module>\u001b[1;34m\u001b[0m\n\u001b[1;32m----> 1\u001b[1;33m \u001b[0mgrams\u001b[0m \u001b[1;33m=\u001b[0m \u001b[0mn_grams\u001b[0m\u001b[1;33m(\u001b[0m\u001b[0mtext3\u001b[0m\u001b[1;33m,\u001b[0m \u001b[1;36m5\u001b[0m\u001b[1;33m)\u001b[0m\u001b[1;33m\u001b[0m\u001b[1;33m\u001b[0m\u001b[0m\n\u001b[0m",
      "\u001b[1;32mC:\\Users\\VALENT~1\\AppData\\Local\\Temp/ipykernel_9040/1971614295.py\u001b[0m in \u001b[0;36mn_grams\u001b[1;34m(text, number)\u001b[0m\n\u001b[0;32m      1\u001b[0m \u001b[1;32mdef\u001b[0m \u001b[0mn_grams\u001b[0m\u001b[1;33m(\u001b[0m\u001b[0mtext\u001b[0m\u001b[1;33m,\u001b[0m \u001b[0mnumber\u001b[0m\u001b[1;33m)\u001b[0m\u001b[1;33m:\u001b[0m\u001b[1;33m\u001b[0m\u001b[1;33m\u001b[0m\u001b[0m\n\u001b[0;32m      2\u001b[0m     \u001b[0mtokens\u001b[0m\u001b[1;33m=\u001b[0m\u001b[0mnltk\u001b[0m\u001b[1;33m.\u001b[0m\u001b[0mword_tokenize\u001b[0m\u001b[1;33m(\u001b[0m\u001b[0mtext\u001b[0m\u001b[1;33m)\u001b[0m\u001b[1;33m\u001b[0m\u001b[1;33m\u001b[0m\u001b[0m\n\u001b[1;32m----> 3\u001b[1;33m     \u001b[0mgrams\u001b[0m\u001b[1;33m=\u001b[0m\u001b[0mn_grams\u001b[0m\u001b[1;33m(\u001b[0m\u001b[0mtokens\u001b[0m\u001b[1;33m,\u001b[0m\u001b[0mn\u001b[0m\u001b[1;33m)\u001b[0m\u001b[1;33m\u001b[0m\u001b[1;33m\u001b[0m\u001b[0m\n\u001b[0m\u001b[0;32m      4\u001b[0m     \u001b[1;32mreturn\u001b[0m \u001b[0mgrams\u001b[0m\u001b[1;33m\u001b[0m\u001b[1;33m\u001b[0m\u001b[0m\n",
      "\u001b[1;31mNameError\u001b[0m: name 'n' is not defined"
     ]
    }
   ],
   "source": [
    "grams = n_grams(text3, 5)"
   ]
  },
  {
   "cell_type": "code",
   "execution_count": null,
   "id": "546ec931",
   "metadata": {},
   "outputs": [],
   "source": []
  }
 ],
 "metadata": {
  "kernelspec": {
   "display_name": "Python 3 (ipykernel)",
   "language": "python",
   "name": "python3"
  },
  "language_info": {
   "codemirror_mode": {
    "name": "ipython",
    "version": 3
   },
   "file_extension": ".py",
   "mimetype": "text/x-python",
   "name": "python",
   "nbconvert_exporter": "python",
   "pygments_lexer": "ipython3",
   "version": "3.9.7"
  }
 },
 "nbformat": 4,
 "nbformat_minor": 5
}
