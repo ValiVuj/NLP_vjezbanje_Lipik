{
 "cells": [
  {
   "cell_type": "code",
   "execution_count": 1,
   "metadata": {},
   "outputs": [
    {
     "name": "stderr",
     "output_type": "stream",
     "text": [
      "C:\\Users\\Valentina\\anaconda3\\envs\\jupyter-env\\lib\\site-packages\\gensim\\similarities\\__init__.py:15: UserWarning: The gensim.similarities.levenshtein submodule is disabled, because the optional Levenshtein package <https://pypi.org/project/python-Levenshtein/> is unavailable. Install Levenhstein (e.g. `pip install python-Levenshtein`) to suppress this warning.\n",
      "  warnings.warn(msg)\n"
     ]
    }
   ],
   "source": [
    "import gensim"
   ]
  },
  {
   "cell_type": "code",
   "execution_count": 2,
   "metadata": {},
   "outputs": [],
   "source": [
    "text = \"Lipik is a town in western Slavonia, in the Požega-Slavonia County of northeastern Croatia. It is known for its spas, mineral water and Lipizzaner stables.  Lipik was occupied by Ottoman forces along with several other cities in Slavonia until its liberation in 1691. In 1773, the warm waters of Lipik were described favorably by a Varaždin doctor. It continued to be used as a treatment spa for over a century, and in 1872, the first hotel was opened in the town. By 1920 the number of hotels grew to six. Spa treatment is still the major focus of economy for the town. In the late 19th and early 20th century, Lipik was part of the Požega County of the Kingdom of Croatia-Slavonia.\""
   ]
  },
  {
   "cell_type": "code",
   "execution_count": 3,
   "metadata": {},
   "outputs": [],
   "source": [
    "import spacy\n",
    "nlp = spacy.load(\"en_core_web_lg\")\n"
   ]
  },
  {
   "cell_type": "code",
   "execution_count": null,
   "metadata": {},
   "outputs": [],
   "source": []
  }
 ],
 "metadata": {
  "interpreter": {
   "hash": "d0c1855d6d5db5326ee538db8b88d373e73e9231c0463bb1126d2dce63de8bfc"
  },
  "kernelspec": {
   "display_name": "Python 3.9.7 ('jupyter-env')",
   "language": "python",
   "name": "python3"
  },
  "language_info": {
   "codemirror_mode": {
    "name": "ipython",
    "version": 3
   },
   "file_extension": ".py",
   "mimetype": "text/x-python",
   "name": "python",
   "nbconvert_exporter": "python",
   "pygments_lexer": "ipython3",
   "version": "3.9.7"
  },
  "orig_nbformat": 4
 },
 "nbformat": 4,
 "nbformat_minor": 2
}
